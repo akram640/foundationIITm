{
 "cells": [
  {
   "cell_type": "markdown",
   "id": "460b3328",
   "metadata": {},
   "source": [
    "## Probability in Python\n",
    "\n",
    "* Simple Python routines for simulating experiments\n",
    "\n",
    "* Probability of an event\n",
    "\n",
    "    * Computed from the theory \n",
    "    \n",
    "    * Verified using **Monte Carlo Simulations**\n",
    "    \n",
    "    * For simple and more complicated experiments and events\n",
    "    "
   ]
  },
  {
   "cell_type": "code",
   "execution_count": 1,
   "id": "f9c573d9",
   "metadata": {},
   "outputs": [],
   "source": [
    "import numpy as np"
   ]
  },
  {
   "cell_type": "markdown",
   "id": "6c87bd37",
   "metadata": {},
   "source": [
    "## Function for uniform outcome\n",
    "\n",
    "n : number of outcome in the sample sapce\n",
    "\n",
    "Output : m outcomes selected uniformly at random from 1 to n"
   ]
  },
  {
   "cell_type": "code",
   "execution_count": 2,
   "id": "c1b9059f",
   "metadata": {},
   "outputs": [],
   "source": [
    "def uniform(n,m):\n",
    "    return np.random.randint(1,n+1,m)"
   ]
  },
  {
   "cell_type": "markdown",
   "id": "bf248441",
   "metadata": {},
   "source": [
    "## Toss a coin\n",
    "\n",
    "Toss once, 10 times and 100 times\n",
    "\n",
    "1: Heads and 2 : Tails"
   ]
  },
  {
   "cell_type": "code",
   "execution_count": 19,
   "id": "286dba6d",
   "metadata": {},
   "outputs": [
    {
     "name": "stdout",
     "output_type": "stream",
     "text": [
      "[2]\n",
      "[1 1 1 1 2 1 2 1 2 2]\n",
      "[2 1 2 1 2 1 1 2 1 1 2 2 2 1 2 2 2 1 1 1 1 2 2 2 2 2 1 2 2 2 1 2 2 1 1 2 1\n",
      " 2 2 1 1 2 1 1 1 2 2 1 1 1 2 2 2 1 2 2 1 1 2 2 2 1 1 2 1 2 2 1 2 2 2 2 2 2\n",
      " 2 1 2 1 1 2 1 2 2 2 2 2 1 2 1 1 1 1 1 1 1 2 2 2 2 1]\n"
     ]
    }
   ],
   "source": [
    "print(uniform(2,1)) # Two outcome is there and i want to perform\n",
    "# experiment one time\n",
    "print(uniform(2,10))\n",
    "\n",
    "print(uniform(2,100))"
   ]
  },
  {
   "cell_type": "markdown",
   "id": "527caf96",
   "metadata": {},
   "source": [
    "## Throw a die\n",
    "\n",
    "Throw onece, 10 times and 100 times"
   ]
  },
  {
   "cell_type": "code",
   "execution_count": 29,
   "id": "b8fd5f2d",
   "metadata": {},
   "outputs": [
    {
     "name": "stdout",
     "output_type": "stream",
     "text": [
      "[5]\n",
      "[2 3 4 4 4 1 2 1 2 5]\n",
      "[1 2 3 1 6 4 6 2 5 4 1 1 5 2 5 2 2 1 6 6 3 2 3 6 3 3 6 2 5 5 3 2 2 4 6 4 5\n",
      " 6 3 3 2 2 1 3 3 2 1 4 6 3 6 5 3 6 1 5 4 4 5 4 2 5 6 3 1 5 2 6 1 6 3 4 5 4\n",
      " 4 3 1 6 6 5 3 5 5 4 1 5 4 3 4 3 6 5 4 5 3 1 3 6 4 2]\n"
     ]
    }
   ],
   "source": [
    "print(uniform(6,1))\n",
    "print(uniform(6,10))\n",
    "print(uniform(6,100))"
   ]
  },
  {
   "cell_type": "markdown",
   "id": "0fe5aa14",
   "metadata": {},
   "source": [
    "## Estimating probabilty by simulation - Monte Carlo\n",
    "\n",
    "The probability of an event A can be estimated as follows. We can simulate the experiment repeatedly and independently, say N times, and count the number of times the event occured, Say $N_{A}$\n",
    "\n",
    "A good estimate of $P(A)$ is the following:\n",
    "\n",
    "$$P(A) \\approx \\frac{N_{A}}{N}$$\n",
    "\n",
    "as $N$ grows larger and larger , the estimate becomes better and better . This method is generally terms Monte Carlo simulation.\n",
    "\n",
    "We will first evalute probaility of coin toss described above using Monte Carlo simulations. There are two steps: genrate a larger number of tosses and count the number of heads or tails. These two steps can be written in a single loop usually. \n",
    "\n",
    "You should run the simulation mulple times to see what probablitity estimate is obtained each time. You will see that the estimite is close to 0.5\n"
   ]
  },
  {
   "cell_type": "code",
   "execution_count": 64,
   "id": "ee826fb8",
   "metadata": {},
   "outputs": [
    {
     "name": "stdout",
     "output_type": "stream",
     "text": [
      "0.4974\n"
     ]
    }
   ],
   "source": [
    "no_head = 0 # for storing number of heads\n",
    "n  = 10000\n",
    "for i in range(n): # repeat n times\n",
    "    if(uniform(2,1) == 1): # check if coin toss is heads\n",
    "        no_head += 1\n",
    "print(no_head/n) # probability estimate by Monte Carlo"
   ]
  },
  {
   "cell_type": "markdown",
   "id": "fe363d77",
   "metadata": {},
   "source": [
    "## Probability of die showing a number\n",
    "\n",
    "We will modify teh Monte Carlo simulation above for finding probability that a dies shows a particular number. You will see that the estimate is close to 1/6. \n",
    "\n",
    "If you change the the loop iterations to 10000, the estimate will be much closer to 1/6 and more consistent as well."
   ]
  },
  {
   "cell_type": "code",
   "execution_count": 90,
   "id": "7a2e7646",
   "metadata": {},
   "outputs": [
    {
     "name": "stdout",
     "output_type": "stream",
     "text": [
      "0.4931\n"
     ]
    }
   ],
   "source": [
    "# Event is {1,3,5}\n",
    "no = 0\n",
    "for i in range(10000): # repetitions\n",
    "    die = uniform(6,1) # experiment\n",
    "    if (die == 1 or die == 3 or die == 5): # event\n",
    "        no += 1\n",
    "        \n",
    "print(no/10000)"
   ]
  },
  {
   "cell_type": "markdown",
   "id": "fcb955de",
   "metadata": {},
   "source": [
    "## Birthday problem\n",
    "\n",
    "In a group of $n$ persons, what is the chance that some two have the same birthday? Assumes birthday of a person is uniformly distributed in $\\{1,2,...,365\\}$ and is independent of all other birthdays. Most people will think that you need at least 100 person before you start seeing same birthdays. However, supprisingly eprhaps, even with 23 persons ther is a $50\\%$ chance of two sharing a birthday. \n",
    "\n",
    "Event $A$ : Some two have same birthday\n",
    "\n",
    "Event $A^C$ : no Two have same birthday\n",
    "\n",
    "$A^C$: (Birthday 1 on day date $B1$)"
   ]
  },
  {
   "cell_type": "code",
   "execution_count": 99,
   "id": "5edae68b",
   "metadata": {},
   "outputs": [
    {
     "name": "stdout",
     "output_type": "stream",
     "text": [
      "0.11694817771107768\n",
      "0.116\n"
     ]
    }
   ],
   "source": [
    "no = 0 # for event occurence\n",
    "n = 10 # number of persons\n",
    "print(1 - np.prod(1-np.arange(1,n)/365)) # probability from expression\n",
    "\n",
    "for i in range(1000):\n",
    "    B = np.zeros(366) # array to keep track of birthday seen\n",
    "    for j in range(n): # generatte birthday for each person\n",
    "        Bi = uniform(365,1) # i-th birthday\n",
    "        if( B[Bi] == 0): # if Bi is seen for the first time\n",
    "            B[Bi] = 1 # make note that Bi has been seen\n",
    "        else:\n",
    "            no += 1 # if Bi has been seen before, then two birthday are same\n",
    "    \n",
    "            break # we can stop generating more birthday and exit loop early\n",
    "print(no/1000)"
   ]
  },
  {
   "cell_type": "code",
   "execution_count": null,
   "id": "56fb219b",
   "metadata": {},
   "outputs": [],
   "source": []
  },
  {
   "cell_type": "code",
   "execution_count": null,
   "id": "bc68c201",
   "metadata": {},
   "outputs": [],
   "source": []
  }
 ],
 "metadata": {
  "kernelspec": {
   "display_name": "Python 3",
   "language": "python",
   "name": "python3"
  },
  "language_info": {
   "codemirror_mode": {
    "name": "ipython",
    "version": 3
   },
   "file_extension": ".py",
   "mimetype": "text/x-python",
   "name": "python",
   "nbconvert_exporter": "python",
   "pygments_lexer": "ipython3",
   "version": "3.9.6"
  }
 },
 "nbformat": 4,
 "nbformat_minor": 5
}
