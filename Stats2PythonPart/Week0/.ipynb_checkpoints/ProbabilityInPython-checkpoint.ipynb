{
 "cells": [
  {
   "cell_type": "markdown",
   "id": "963377b6",
   "metadata": {},
   "source": [
    "## Probability in Python\n",
    "\n",
    "* Simple Python routines for simulating experiments\n",
    "\n",
    "* Probability of an event\n",
    "\n",
    "    * Computed from the theory \n",
    "    \n",
    "    * Verified using **Monte Carlo Simulations**\n",
    "    \n",
    "    * For simple and more complicated experiments and events\n",
    "    "
   ]
  },
  {
   "cell_type": "code",
   "execution_count": 1,
   "id": "075dff02",
   "metadata": {},
   "outputs": [],
   "source": [
    "import numpy as np"
   ]
  },
  {
   "cell_type": "markdown",
   "id": "9fd68108",
   "metadata": {},
   "source": [
    "## Function for uniform outcome\n",
    "\n",
    "n : number of outcome in the sample sapce\n",
    "\n",
    "Output : m outcomes selected uniformly at random from 1 to n"
   ]
  },
  {
   "cell_type": "code",
   "execution_count": 2,
   "id": "ba338613",
   "metadata": {},
   "outputs": [],
   "source": [
    "def uniform(n,m):\n",
    "    return np.random.randint(1,n+1,m)"
   ]
  },
  {
   "cell_type": "markdown",
   "id": "71d84134",
   "metadata": {},
   "source": [
    "## Toss a coin\n",
    "\n",
    "Toss once, 10 times and 100 times\n",
    "\n",
    "1: Heads and 2 : Tails"
   ]
  },
  {
   "cell_type": "code",
   "execution_count": 15,
   "id": "caf652bd",
   "metadata": {},
   "outputs": [
    {
     "name": "stdout",
     "output_type": "stream",
     "text": [
      "[1]\n",
      "[1 1 1 2 2 2 2 2 1 1]\n",
      "[2 1 2 2 1 1 2 1 1 2 1 2 1 2 1 2 2 2 1 1 1 2 1 1 2 2 1 2 2 2 1 1 2 1 2 2 1\n",
      " 2 2 2 1 2 1 2 2 1 2 2 1 1 1 2 2 1 2 2 2 1 2 1 1 1 1 1 2 2 1 1 2 2 2 2 2 2\n",
      " 1 2 2 2 2 2 2 2 2 1 2 1 1 1 1 1 2 2 2 1 2 1 1 2 2 1]\n"
     ]
    }
   ],
   "source": [
    "print(uniform(2,1)) # Two outcome is there and i want to perform\n",
    "# experiment one time\n",
    "print(uniform(2,10))\n",
    "\n",
    "print(uniform(2,100))"
   ]
  },
  {
   "cell_type": "code",
   "execution_count": null,
   "id": "a2c91086",
   "metadata": {},
   "outputs": [],
   "source": []
  }
 ],
 "metadata": {
  "kernelspec": {
   "display_name": "Python 3",
   "language": "python",
   "name": "python3"
  },
  "language_info": {
   "codemirror_mode": {
    "name": "ipython",
    "version": 3
   },
   "file_extension": ".py",
   "mimetype": "text/x-python",
   "name": "python",
   "nbconvert_exporter": "python",
   "pygments_lexer": "ipython3",
   "version": "3.9.6"
  }
 },
 "nbformat": 4,
 "nbformat_minor": 5
}
